{
 "cells": [
  {
   "cell_type": "code",
   "execution_count": 1,
   "metadata": {},
   "outputs": [],
   "source": [
    "# We are going to perform the time evolution of an ising model of a single spin\n",
    "# This will be done using the Lie-Trotter-Suzuki formula in order to approximate the exponential\n",
    "\n",
    "# This setups everything\n",
    "\n",
    "import numpy as np\n",
    "from qiskit import *\n",
    "%matplotlib inline"
   ]
  },
  {
   "cell_type": "code",
   "execution_count": 125,
   "metadata": {},
   "outputs": [],
   "source": [
    "# We create a register with just 1 qubit\n",
    "\n",
    "q = QuantumRegister(1,'q')\n",
    "\n",
    "circ = QuantumCircuit(q)"
   ]
  },
  {
   "cell_type": "code",
   "execution_count": 126,
   "metadata": {},
   "outputs": [],
   "source": [
    "# We can start aplying gates\n",
    "\n",
    "# We set the initial state as a spin up pointing in the x direction\n",
    "\n",
    "circ.h(q[0])\n",
    "\n",
    "# Now we apply the time evolution operator. We set c = 0.01, h = 20, t0 = 100\n",
    "c = 0.1 \n",
    "hj = 20 \n",
    "tf = 0\n",
    "\n",
    "dt = 0.05 # prueba2 : dt = 0.2\n",
    "#dt = 0.5\n",
    "t = -250 # setting t = -2000 worked great ; trying to find a lower bound // the following tests set c = 0.1\n",
    "            # t=-2000 actually works great but t = -1000 doesnt -> why ?\n",
    "            # t = -1500 is ok too / t = -1100 is not\n",
    "        \n",
    "# Some kind of phase transition ? Setting t = -1500 & c = 0.01 doesnt seem to work\n",
    "# Setting t = -15000 & c = 0.01 while dt = 0.5 fails\n",
    "while t<tf:\n",
    "    \n",
    "    t1 = t + dt\n",
    "  #  for i in range(1,N):\n",
    "    circ.rz(hj/2*(t-t1),q[0])\n",
    "    circ.rx(c/2*(t1*t1-t*t),q[0])\n",
    "    circ.rz(hj/2*(t-t1),q[0])\n",
    "      #      circ.rx(-c*(t*t-t1*t1)/(2*N),q[0])\n",
    "       #     circ.rz(-hj*(t-t1)/N,q[0])\n",
    "    t = t1 "
   ]
  },
  {
   "cell_type": "code",
   "execution_count": 83,
   "metadata": {},
   "outputs": [],
   "source": [
    "# We draw the circuit (it is not a very beatiful one)\n",
    "\n",
    "#circ.draw()"
   ]
  },
  {
   "cell_type": "code",
   "execution_count": 84,
   "metadata": {},
   "outputs": [],
   "source": [
    "from qiskit import BasicAer\n",
    "from qiskit.visualization import plot_bloch_multivector\n",
    "\n",
    "# Lets simulate the final state\n",
    "\n",
    "backend = BasicAer.get_backend('statevector_simulator') #->basically this runs the circuit\n",
    "job = execute(circ,backend)\n",
    "result = job.result()\n",
    "\n",
    "outputstate = result.get_statevector(circ,decimals=3)\n",
    "#print(outputstate)\n",
    "plot_bloch_multivector(outputstate).savefig('prueba1t=0.png')\n",
    "\n"
   ]
  },
  {
   "cell_type": "code",
   "execution_count": 127,
   "metadata": {},
   "outputs": [],
   "source": [
    "c = ClassicalRegister(1,'c')\n",
    "\n",
    "# We now create a Quantum Circuit for this register\n",
    "\n",
    "measure = QuantumCircuit(q,c)\n",
    "\n",
    "# This simply draws a barrier in the circuit\n",
    "\n",
    "measure.barrier(q)\n",
    "\n",
    "# And this performs the measurement in each qubit\n",
    "\n",
    "measure.measure(q,c)\n",
    "\n",
    "# Now we can add the circuits and draw the final result\n",
    "\n",
    "qc = circ + measure\n",
    "#qc.draw(output='latex')"
   ]
  },
  {
   "cell_type": "code",
   "execution_count": 128,
   "metadata": {},
   "outputs": [],
   "source": [
    "backend_sim = BasicAer.get_backend('qasm_simulator')\n",
    "\n",
    "# Now we execute the circuit on the qasm simulator. We repeat the experiment\n",
    "# 2048 times\n",
    "\n",
    "job_sim = execute(qc,backend_sim,shots=1024)\n",
    "\n",
    "# Finally we grab the results\n",
    "\n",
    "result_sim = job_sim.result()"
   ]
  },
  {
   "cell_type": "code",
   "execution_count": 129,
   "metadata": {},
   "outputs": [
    {
     "name": "stdout",
     "output_type": "stream",
     "text": [
      "{'1': 84, '0': 940}\n"
     ]
    }
   ],
   "source": [
    "counts = result_sim.get_counts(qc) # The function get_counts(circuit) lets us access the counts\n",
    "print(counts)"
   ]
  },
  {
   "cell_type": "code",
   "execution_count": 130,
   "metadata": {},
   "outputs": [
    {
     "data": {
      "image/png": "[encoded data removed]",
      "text/plain": [
       "<Figure size 504x360 with 1 Axes>"
      ]
     },
     "execution_count": 130,
     "metadata": {},
     "output_type": "execute_result"
    }
   ],
   "source": [
    "from qiskit.visualization import plot_histogram\n",
    "plot_histogram(counts)"
   ]
  },
  {
   "cell_type": "code",
   "execution_count": 111,
   "metadata": {},
   "outputs": [
    {
     "name": "stderr",
     "output_type": "stream",
     "text": [
      "C:\\Users\\User\\Anaconda3\\lib\\site-packages\\qiskit\\providers\\ibmq\\credentials\\configrc.py:130: UserWarning: Credentials already present. Set overwrite=True to overwrite.\n",
      "  warnings.warn('Credentials already present. '\n"
     ]
    }
   ],
   "source": [
    "from qiskit import IBMQ\n",
    "\n",
    "# Im linking this program with my test account by using my token:\n",
    "\n",
    "IBMQ.save_account('5acf5b9794cd56709a04e932a3ded43fbcdb316c1621e8962ec93352a182ef269ce5b3158889c267dc04fa207e71abb60b0d5c11e69a71602679dbb5a5c05364')"
   ]
  },
  {
   "cell_type": "code",
   "execution_count": 99,
   "metadata": {},
   "outputs": [
    {
     "name": "stderr",
     "output_type": "stream",
     "text": [
      "C:\\Users\\User\\Anaconda3\\lib\\site-packages\\qiskit\\providers\\ibmq\\ibmqprovider.py:272: UserWarning: Credentials are already in use.\n",
      "  warnings.warn('Credentials are already in use.')\n"
     ]
    }
   ],
   "source": [
    "IBMQ.load_accounts(hub=None)"
   ]
  },
  {
   "cell_type": "code",
   "execution_count": 100,
   "metadata": {},
   "outputs": [
    {
     "name": "stdout",
     "output_type": "stream",
     "text": [
      "Available backends:\n"
     ]
    },
    {
     "data": {
      "text/plain": [
       "[<IBMQBackend('ibmqx4') from IBMQ()>,\n",
       " <IBMQBackend('ibmqx2') from IBMQ()>,\n",
       " <IBMQBackend('ibmq_16_melbourne') from IBMQ()>,\n",
       " <IBMQSimulator('ibmq_qasm_simulator') from IBMQ()>]"
      ]
     },
     "execution_count": 100,
     "metadata": {},
     "output_type": "execute_result"
    }
   ],
   "source": [
    "print(\"Available backends:\")\n",
    "IBMQ.backends()"
   ]
  },
  {
   "cell_type": "code",
   "execution_count": 113,
   "metadata": {},
   "outputs": [
    {
     "name": "stdout",
     "output_type": "stream",
     "text": [
      "The best backend is ibmqx4\n"
     ]
    }
   ],
   "source": [
    "# We will now find the device with the least busy queue that can support\n",
    "# our program\n",
    "\n",
    "from qiskit.providers.ibmq import least_busy\n",
    "\n",
    "large_enough_devices = IBMQ.backends(filters=lambda x: x.configuration().n_qubits<10 and \n",
    "                                    not x.configuration().simulator)\n",
    "\n",
    "backend = least_busy(large_enough_devices)\n",
    "print(\"The best backend is \"+ backend.name())"
   ]
  },
  {
   "cell_type": "code",
   "execution_count": 131,
   "metadata": {},
   "outputs": [
    {
     "name": "stdout",
     "output_type": "stream",
     "text": [
      "Job Status: job has successfully run\n"
     ]
    }
   ],
   "source": [
    "from qiskit.tools.monitor import job_monitor\n",
    "shots = 1024\n",
    "max_credits = 3\n",
    "\n",
    "job_exp = execute(qc,backend = backend, shots = shots, max_credits = max_credits)\n",
    "job_monitor(job_exp)"
   ]
  },
  {
   "cell_type": "code",
   "execution_count": 132,
   "metadata": {},
   "outputs": [],
   "source": [
    "result_exp = job_exp.result()"
   ]
  },
  {
   "cell_type": "code",
   "execution_count": 133,
   "metadata": {},
   "outputs": [
    {
     "data": {
      "image/png": "[encoded data removed]",
      "text/plain": [
       "<Figure size 504x360 with 1 Axes>"
      ]
     },
     "execution_count": 133,
     "metadata": {},
     "output_type": "execute_result"
    }
   ],
   "source": [
    "counts_exp = result_exp.get_counts(qc)\n",
    "legend = ['Aer simulator','IBM Q5 Tenerife (ibmqx4)']\n",
    "plot_histogram([counts,counts_exp],legend=legend)#.savefig('fig32.png')"
   ]
  },
  {
   "cell_type": "code",
   "execution_count": null,
   "metadata": {},
   "outputs": [],
   "source": []
  }
 ],
 "metadata": {
  "kernelspec": {
   "display_name": "Python 3",
   "language": "python",
   "name": "python3"
  },
  "language_info": {
   "codemirror_mode": {
    "name": "ipython",
    "version": 3
   },
   "file_extension": ".py",
   "mimetype": "text/x-python",
   "name": "python",
   "nbconvert_exporter": "python",
   "pygments_lexer": "ipython3",
   "version": "3.7.3"
  }
 },
 "nbformat": 4,
 "nbformat_minor": 2
}
