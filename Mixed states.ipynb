{
 "cells": [
  {
   "cell_type": "code",
   "execution_count": 2,
   "metadata": {},
   "outputs": [],
   "source": [
    "# This setups everything\n",
    "\n",
    "import numpy as np\n",
    "from qiskit import *\n",
    "%matplotlib inline"
   ]
  },
  {
   "cell_type": "code",
   "execution_count": 3,
   "metadata": {},
   "outputs": [],
   "source": [
    "q = QuantumRegister(3,'q')"
   ]
  },
  {
   "cell_type": "code",
   "execution_count": 4,
   "metadata": {},
   "outputs": [],
   "source": [
    "circ = QuantumCircuit(q)"
   ]
  },
  {
   "cell_type": "code",
   "execution_count": 5,
   "metadata": {},
   "outputs": [
    {
     "data": {
      "text/plain": [
       "<qiskit.extensions.standard.cx.CnotGate at 0x26438f467f0>"
      ]
     },
     "execution_count": 5,
     "metadata": {},
     "output_type": "execute_result"
    }
   ],
   "source": [
    "# This builds the initial state for the two-qubit system as suggested in the paper\n",
    "\n",
    "circ.h(q[0])\n",
    "circ.s(q[0])\n",
    "circ.h(q[2])\n",
    "circ.cx(q[2],q[1])\n"
   ]
  },
  {
   "cell_type": "code",
   "execution_count": 6,
   "metadata": {},
   "outputs": [
    {
     "data": {
      "image/png": "[encoded data removed]",
      "text/plain": [
       "<PIL.Image.Image image mode=RGB size=275x206 at 0x264391849B0>"
      ]
     },
     "execution_count": 6,
     "metadata": {},
     "output_type": "execute_result"
    }
   ],
   "source": [
    "circ.draw(output='latex')"
   ]
  },
  {
   "cell_type": "raw",
   "metadata": {},
   "source": [
    "\n"
   ]
  },
  {
   "cell_type": "code",
   "execution_count": 7,
   "metadata": {},
   "outputs": [
    {
     "name": "stdout",
     "output_type": "stream",
     "text": [
      "[0.5+0.j  0. +0.5j 0. +0.j  0. +0.j  0. +0.j  0. +0.j  0.5+0.j  0. +0.5j]\n"
     ]
    }
   ],
   "source": [
    "# We are going to simulate the circuit using Qiskit Aer\n",
    "\n",
    "from qiskit import BasicAer\n",
    "backend = BasicAer.get_backend('statevector_simulator') #->basically this runs the circuit\n",
    "job = execute(circ,backend)\n",
    "\n",
    "result = job.result()\n",
    "outputstate = result.get_statevector(circ,decimals=3)\n",
    "\n",
    "print(outputstate)"
   ]
  },
  {
   "cell_type": "code",
   "execution_count": 68,
   "metadata": {},
   "outputs": [
    {
     "data": {
      "text/plain": [
       "<qiskit.extensions.standard.s.SGate at 0x2643921e860>"
      ]
     },
     "execution_count": 68,
     "metadata": {},
     "output_type": "execute_result"
    }
   ],
   "source": [
    "# Construyamos el mismo estado de otra forma \n",
    "\n",
    "q = QuantumRegister(2,'q') #---> solo necesitamos dos qubits !\n",
    "\n",
    "circ2 = QuantumCircuit(q)\n",
    "\n",
    "# Estado |+y><+y| para el qubit 0\n",
    "circ2.h(q[0])\n",
    "circ2.s(q[0])\n"
   ]
  },
  {
   "cell_type": "code",
   "execution_count": 69,
   "metadata": {},
   "outputs": [],
   "source": [
    "# Podemos construir un estado mixto utilizando generadores de numeros aleatorios?\n",
    "\n",
    "import random\n",
    "\n",
    "for x in range(1):\n",
    "    prob = random.randint(1,2)\n",
    "if prob==1:\n",
    "    circ2.x(q[1])\n",
    "else :\n",
    "    circ2.iden(q[1])\n",
    "    \n",
    "    # Implementacion descrita en el apendice C de 'Compressed Quantum Computation[...]'"
   ]
  },
  {
   "cell_type": "code",
   "execution_count": 66,
   "metadata": {},
   "outputs": [
    {
     "name": "stdout",
     "output_type": "stream",
     "text": [
      "[0.   +0.j    0.   +0.j    0.707+0.j    0.   +0.707j]\n"
     ]
    }
   ],
   "source": [
    "backend = BasicAer.get_backend('statevector_simulator') #->basically this runs the circuit\n",
    "job = execute(circ2,backend)\n",
    "\n",
    "result = job.result()\n",
    "outputstate = result.get_statevector(circ2,decimals=3)\n",
    "\n",
    "print(outputstate)"
   ]
  },
  {
   "cell_type": "code",
   "execution_count": 67,
   "metadata": {},
   "outputs": [
    {
     "data": {
      "image/png": "[encoded data removed]",
      "text/plain": [
       "<PIL.Image.Image image mode=RGB size=276x127 at 0x2643923CE10>"
      ]
     },
     "execution_count": 67,
     "metadata": {},
     "output_type": "execute_result"
    }
   ],
   "source": [
    "circ2.draw(output='latex')"
   ]
  },
  {
   "cell_type": "code",
   "execution_count": null,
   "metadata": {},
   "outputs": [],
   "source": []
  }
 ],
 "metadata": {
  "kernelspec": {
   "display_name": "Python 3",
   "language": "python",
   "name": "python3"
  },
  "language_info": {
   "codemirror_mode": {
    "name": "ipython",
    "version": 3
   },
   "file_extension": ".py",
   "mimetype": "text/x-python",
   "name": "python",
   "nbconvert_exporter": "python",
   "pygments_lexer": "ipython3",
   "version": "3.7.3"
  }
 },
 "nbformat": 4,
 "nbformat_minor": 2
}
